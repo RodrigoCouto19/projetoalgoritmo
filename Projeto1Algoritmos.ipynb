{
  "cells": [
    {
      "metadata": {},
      "cell_type": "markdown",
      "source": "<b>Grupo: Lucas de Sena e Rodrigo Couto</b>"
    },
    {
      "metadata": {
        "collapsed": true
      },
      "cell_type": "markdown",
      "source": "## Fase 1: Modelagem do Problema"
    },
    {
      "metadata": {},
      "cell_type": "markdown",
      "source": "Nossa dupla debateu sobre os respectivos problemas no qual nós pensamos e colocamos no forum (<a href=\"http://sala.aprendendopython.info/showthread.php?tid=17\">aprendendopython.info</a>), esse debate ocasionou na nossa escolha pelo problema sobre \"a dificuldade de achar vaga em um estacionamento quando ele esta muito cheio\", que foi o problema que mais chamou a nossa atenção e que por alguns motivos achamos mais interessante de abordar."
    },
    {
      "metadata": {},
      "cell_type": "markdown",
      "source": "## Fase 2: Escopo do Problema"
    },
    {
      "metadata": {},
      "cell_type": "markdown",
      "source": "<h4>Para o problema suposto:</h4>\n\n* fazer um algoritmo para controle da entra e saida das vagas do estacionamento."
    },
    {
      "metadata": {},
      "cell_type": "markdown",
      "source": "## Fase 3: Identificação de formas de solucionar o Problema"
    },
    {
      "metadata": {},
      "cell_type": "markdown",
      "source": "<i> Importando o comando \"shuffle\" da biblioteca \"random\": </i>"
    },
    {
      "metadata": {
        "trusted": true
      },
      "cell_type": "code",
      "source": "from random import shuffle",
      "execution_count": null,
      "outputs": []
    },
    {
      "metadata": {},
      "cell_type": "markdown",
      "source": "<i> Declarando as listas de vagas: </i>"
    },
    {
      "metadata": {
        "trusted": true
      },
      "cell_type": "code",
      "source": "listaVagasLivres = [\"A1\",\"A2\",\"A3\",\"B1\",\"B2\",\"B3\",\"C1\",\"C2\",\"C3\"]\nlistaVagasOcupadas = []",
      "execution_count": null,
      "outputs": []
    },
    {
      "metadata": {},
      "cell_type": "markdown",
      "source": "<i> Declarando variaveis: </i>"
    },
    {
      "metadata": {
        "trusted": true
      },
      "cell_type": "code",
      "source": "continuar = 'S'\ni = 1\nj = 1",
      "execution_count": null,
      "outputs": []
    },
    {
      "metadata": {},
      "cell_type": "markdown",
      "source": "<i> estrutura do código para vagas aleatórias: </i>"
    },
    {
      "metadata": {
        "trusted": true
      },
      "cell_type": "code",
      "source": "while continuar == 'S':\n\n    quantidade = int(\n        input('\\nDigite quantos Carros estão entrando no estacionamento: '))\n\n    if quantidade < 1:\n        print('\\nNenhuma vaga foi ocupada!')\n\n    if quantidade > len(listaVagasLivres):\n        print('''\\nA Quantidade de carro é maior que a quantidade de vagas.\n\n            Temos {} vagas livres'''.format(len(listaVagasLivres)))\n\n    else:\n        for x in range(quantidade):\n            shuffle(listaVagasLivres)\n            listaVagasOcupadas.append(listaVagasLivres.pop())\n\n            print('\\nCarro {} na vaga {}'.format(i, listaVagasOcupadas[x]))\n            print('\\nVAGAS LIVRES:', listaVagasLivres)\n            print('VAGAS OCUPADAS:', listaVagasOcupadas)\n            i += 1\n\n        saida = int(input(\"\\nQuantos carros sairam? \"))\n\n        if saida < 1:\n            print('\\nNenhuma vaga foi liberada!')\n\n        elif saida > len(listaVagasOcupadas):\n            print(\n                '''\\nA Quantidade de carro é maior que a quantidade de vagas ocupadas.\n\n            Temos {} vagas ocupadas'''.format(len(listaVagasOcupadas)))\n        else:\n            for x in range(saida):\n\n                listaVagasLivres.append(listaVagasOcupadas.pop(0))\n                print('\\nVAGAS LIVRES:', listaVagasLivres)\n                print('VAGAS OCUPADAS:', listaVagasOcupadas)\n                print('\\nCarro {} saiu da vaga {}'.format(\n                    j, listaVagasLivres[len(listaVagasLivres) - 1]))\n\n                j += 1\n\n    continuar = input('\\nDeseja continuar (S | N): ')",
      "execution_count": null,
      "outputs": []
    },
    {
      "metadata": {},
      "cell_type": "markdown",
      "source": "Importando o matplotlib,para plotar o gráfico:"
    },
    {
      "metadata": {
        "trusted": true
      },
      "cell_type": "code",
      "source": "import matplotlib.pyplot as plt\nimport numpy as np\nfrom matplotlib.pyplot import figure\n\n\n",
      "execution_count": 45,
      "outputs": []
    },
    {
      "metadata": {},
      "cell_type": "markdown",
      "source": "<i>Declarando as listas,respectivamente, dias e quantidade de carros:<i/>"
    },
    {
      "metadata": {
        "trusted": true
      },
      "cell_type": "code",
      "source": "dias = [\"Segunda\",\"Terça\",\"Quarta\",\"Quinta\",\"Sexta\",\"Sábado\",\"Domingo\"]\n\nqtdCarros = [\n    94,\n    85,\n    300,\n    212,\n    94,\n    50,\n    54\n]\n\n",
      "execution_count": 46,
      "outputs": []
    },
    {
      "metadata": {},
      "cell_type": "markdown",
      "source": "<i>Usando a ferramenta shuffle novamente para embaralhar os elementos da lista:<i/>\n"
    },
    {
      "metadata": {
        "trusted": true
      },
      "cell_type": "code",
      "source": "shuffle(qtdCarros)\n",
      "execution_count": 47,
      "outputs": []
    },
    {
      "metadata": {},
      "cell_type": "markdown",
      "source": "<i>Codigo do gráfico de barras:</i>"
    },
    {
      "metadata": {
        "trusted": true,
        "scrolled": true
      },
      "cell_type": "code",
      "source": "def plot_bar_x():\n    # Código para apresentar o gráfico\n    index = np.arange(len(dias))\n    figure(num=1, figsize=(10, 4.5), dpi=82, facecolor='w', edgecolor='k')\n    plt.bar(index, qtdCarros, color = 'C3')\n    plt.xlabel('SEMANA', fontsize=10, fontweight='bold')\n    plt.ylabel('QUANTIDADE DE CARROS', fontsize=10, fontweight='bold')\n    plt.xticks(index, dias, fontsize=9, rotation=0)\n    plt.title('Teste de quantidade de carros estacionados na semana', fontweight='bold')\n    plt.show()\nreturn plot_bar_x()",
      "execution_count": 48,
      "outputs": [
        {
          "output_type": "display_data",
          "data": {
            "image/png": "[encoded data removed]",
            "text/plain": "<Figure size 820x369 with 1 Axes>"
          },
          "metadata": {}
        }
      ]
    }
  ],
  "metadata": {
    "kernelspec": {
      "name": "python36",
      "display_name": "Python 3.6",
      "language": "python"
    },
    "language_info": {
      "mimetype": "text/x-python",
      "nbconvert_exporter": "python",
      "name": "python",
      "pygments_lexer": "ipython3",
      "version": "3.6.6",
      "file_extension": ".py",
      "codemirror_mode": {
        "version": 3,
        "name": "ipython"
      }
    }
  },
  "nbformat": 4,
  "nbformat_minor": 2
}