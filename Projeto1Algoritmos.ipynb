{
  "cells": [
    {
      "metadata": {},
      "cell_type": "markdown",
      "source": "<b>Grupo: Lucas de Sena e Rodrigo Couto</b>"
    },
    {
      "metadata": {
        "collapsed": true
      },
      "cell_type": "markdown",
      "source": "# Fase 1: Modelagem do Problema"
    },
    {
      "metadata": {},
      "cell_type": "markdown",
      "source": "Nossa dupla debateu sobre os respectivos problemas no qual nós pensamos e colocamos no forum (<a href=\"http://sala.aprendendopython.info/showthread.php?tid=17\">aprendendopython.info</a>), esse debate ocasionou na nossa escolha pelo problema sobre \"a dificuldade de achar vaga em um estacionamento quando ele esta muito cheio\", que foi o problema que mais chamou a nossa atenção e que por alguns motivos achamos mais interessante de abordar."
    }
  ],
  "metadata": {
    "kernelspec": {
      "name": "python36",
      "display_name": "Python 3.6",
      "language": "python"
    },
    "language_info": {
      "mimetype": "text/x-python",
      "nbconvert_exporter": "python",
      "name": "python",
      "pygments_lexer": "ipython3",
      "version": "3.6.6",
      "file_extension": ".py",
      "codemirror_mode": {
        "version": 3,
        "name": "ipython"
      }
    }
  },
  "nbformat": 4,
  "nbformat_minor": 2
}