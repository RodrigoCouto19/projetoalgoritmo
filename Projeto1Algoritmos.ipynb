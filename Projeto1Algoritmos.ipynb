{
  "cells": [
    {
      "metadata": {},
      "cell_type": "markdown",
      "source": "<b>Grupo: Lucas de Sena e Rodrigo Couto</b>"
    },
    {
      "metadata": {
        "collapsed": true
      },
      "cell_type": "markdown",
      "source": "## Fase 1: Modelagem do Problema"
    },
    {
      "metadata": {},
      "cell_type": "markdown",
      "source": "Nossa dupla debateu sobre os respectivos problemas no qual nós pensamos e colocamos no forum (<a href=\"http://sala.aprendendopython.info/showthread.php?tid=17\">aprendendopython.info</a>), esse debate ocasionou na nossa escolha pelo problema sobre \"a dificuldade de achar vaga em um estacionamento quando ele esta muito cheio\", que foi o problema que mais chamou a nossa atenção e que por alguns motivos achamos mais interessante de abordar."
    },
    {
      "metadata": {},
      "cell_type": "markdown",
      "source": "## Fase 2: Escopo do Problema"
    },
    {
      "metadata": {},
      "cell_type": "markdown",
      "source": "<h4>Para o problema suposto:</h4>\n\n* fazer um algoritmo para controle da entra e saida das vagas do estacionamento."
    },
    {
      "metadata": {},
      "cell_type": "markdown",
      "source": "## Fase 3: Identificação de formas de solucionar o Problema"
    },
    {
      "metadata": {},
      "cell_type": "markdown",
      "source": "<i> Importando o comando \"shuffle\" da biblioteca \"random\": </i>"
    },
    {
      "metadata": {
        "trusted": true
      },
      "cell_type": "code",
      "source": "from random import shuffle",
      "execution_count": null,
      "outputs": []
    },
    {
      "metadata": {},
      "cell_type": "markdown",
      "source": "<i> Declarando as listas de vagas: </i>"
    },
    {
      "metadata": {
        "trusted": true
      },
      "cell_type": "code",
      "source": "listaVagasLivres = [\"A1\",\"A2\",\"A3\",\"B1\",\"B2\",\"B3\",\"C1\",\"C2\",\"C3\"]\nlistaVagasOcupadas = []",
      "execution_count": null,
      "outputs": []
    },
    {
      "metadata": {},
      "cell_type": "markdown",
      "source": "<i> Declarando variaveis: </i>"
    },
    {
      "metadata": {
        "trusted": true
      },
      "cell_type": "code",
      "source": "continuar = 'S'\ni = 1",
      "execution_count": null,
      "outputs": []
    },
    {
      "metadata": {},
      "cell_type": "markdown",
      "source": "<i> Quando o carro entrar no estacionamento: </i>"
    },
    {
      "metadata": {
        "trusted": true
      },
      "cell_type": "code",
      "source": "while continuar == 'S':\n\n  quantidade = int(input('\\nDigite quantos Carros estão entrando no estacionamento: '))\n\n  if quantidade > len(listaVagasLivres):\n   print('''\\nA Quantidade de carro é maior que a quantidade de vagas.  \n            \n            Temos {} Vagas'''.format(len(listaVagasLivres)))\n\n  else:\n   for x in range(quantidade):\n    \n    shuffle(listaVagasLivres)\n    listaVagasOcupadas.append(listaVagasLivres.pop())\n    \n    print('\\nCarro {} na vaga {}'.format(i,listaVagasOcupadas[x]))\n    print('\\nVAGAS LIVRES:', listaVagasLivres)\n    print('VAGAS OCUPADAS:', listaVagasOcupadas)\n    i += 1\n\n  continuar = input('\\nDeseja continuar (S | N): ')",
      "execution_count": null,
      "outputs": []
    },
    {
      "metadata": {},
      "cell_type": "markdown",
      "source": "<i> Quando o carro sair do estacionamento: </i>"
    },
    {
      "metadata": {
        "trusted": true
      },
      "cell_type": "code",
      "source": "",
      "execution_count": null,
      "outputs": []
    }
  ],
  "metadata": {
    "kernelspec": {
      "name": "python36",
      "display_name": "Python 3.6",
      "language": "python"
    },
    "language_info": {
      "mimetype": "text/x-python",
      "nbconvert_exporter": "python",
      "name": "python",
      "pygments_lexer": "ipython3",
      "version": "3.6.6",
      "file_extension": ".py",
      "codemirror_mode": {
        "version": 3,
        "name": "ipython"
      }
    }
  },
  "nbformat": 4,
  "nbformat_minor": 2
}
